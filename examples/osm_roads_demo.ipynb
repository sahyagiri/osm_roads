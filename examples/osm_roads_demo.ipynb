{
 "cells": [
  {
   "cell_type": "code",
   "execution_count": 2,
   "metadata": {},
   "outputs": [],
   "source": [
    "from osm_roads.osm_roads import OsmRoads"
   ]
  },
  {
   "cell_type": "code",
   "execution_count": 6,
   "metadata": {},
   "outputs": [],
   "source": [
    "# Find ways with the given tag\n",
    "way_finder = OsmRoads()\n",
    "way_finder.load_osm_pbf(\"bengaluru.pbf\")\n",
    "# Uncomment the following line to export \n",
    "# way_finder.export_trie('bangalore_updated.trie')\n",
    "#way_finder = GetRoadWays()\n",
    "#way_finder.load_trie('bangalore_updated.trie')"
   ]
  },
  {
   "cell_type": "code",
   "execution_count": 8,
   "metadata": {},
   "outputs": [
    {
     "data": {
      "text/plain": [
       "{'highway': 'primary',\n",
       " 'maxspeed': '50',\n",
       " 'motorroad': 'no',\n",
       " 'name': 'Dr. M H Marigowda Road',\n",
       " 'name:kn': 'ಡಾ ಮರಿಗೌಡ ರಸ್ತೆ',\n",
       " 'oneway': 'yes',\n",
       " 'surface': 'asphalt'}"
      ]
     },
     "execution_count": 8,
     "metadata": {},
     "output_type": "execute_result"
    }
   ],
   "source": [
    "# forum mall-Bosch Road 12.934005898750094, 77.61075025215672\n",
    "way_finder.get_road_type(12.934005898750094, 77.61075025215672)"
   ]
  },
  {
   "cell_type": "code",
   "execution_count": null,
   "metadata": {},
   "outputs": [],
   "source": []
  }
 ],
 "metadata": {
  "interpreter": {
   "hash": "33aa1776e964b57799b92f7009b2bf2b4701937330e9fab52aa3c441390bd836"
  },
  "kernelspec": {
   "display_name": "Python 3.8.12 64-bit ('osm': conda)",
   "language": "python",
   "name": "python3"
  },
  "language_info": {
   "codemirror_mode": {
    "name": "ipython",
    "version": 3
   },
   "file_extension": ".py",
   "mimetype": "text/x-python",
   "name": "python",
   "nbconvert_exporter": "python",
   "pygments_lexer": "ipython3",
   "version": "3.8.12"
  },
  "orig_nbformat": 4
 },
 "nbformat": 4,
 "nbformat_minor": 2
}
