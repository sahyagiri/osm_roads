{
 "cells": [
  {
   "cell_type": "code",
   "execution_count": 3,
   "metadata": {},
   "outputs": [],
   "source": [
    "from osm_roads.osm_roads import OsmRoads"
   ]
  },
  {
   "cell_type": "code",
   "execution_count": 1,
   "metadata": {},
   "outputs": [],
   "source": [
    "# Load and convert to hdf5 file for the first time\n",
    "#osm_roads=OsmRoads(hdf5_file_name=\"bengaluru.hdf5\",openstreetmap_pbf_file_name=\"bengaluru.pbf\")"
   ]
  },
  {
   "cell_type": "code",
   "execution_count": 4,
   "metadata": {},
   "outputs": [],
   "source": [
    "osm_roads=OsmRoads(hdf5_file_name=\"bengaluru.hdf5\")"
   ]
  },
  {
   "cell_type": "code",
   "execution_count": 5,
   "metadata": {},
   "outputs": [
    {
     "data": {
      "text/plain": [
       "{'highway': 'primary',\n",
       " 'maxspeed': '50',\n",
       " 'motorroad': 'no',\n",
       " 'name': 'Dr. M H Marigowda Road',\n",
       " 'name:kn': 'ಡಾ ಮರಿಗೌಡ ರಸ್ತೆ',\n",
       " 'oneway': 'yes',\n",
       " 'surface': 'asphalt',\n",
       " 'geohash': 'tdr1w4hpn6kd',\n",
       " 'coordinates': '[[77.6104871,12.9342124],[77.611161,12.9336994],[77.6123285,12.9327856],[77.6131896,12.9321223],[77.6133247,12.9320183],[77.6135387,12.9318621],[77.6137504,12.9316887]]',\n",
       " 'distance': 0.0001552715272601992}"
      ]
     },
     "execution_count": 5,
     "metadata": {},
     "output_type": "execute_result"
    }
   ],
   "source": [
    "# forum mall-Bosch Road 12.934005898750094, 77.61075025215672\n",
    "osm_roads.get_closest_road(12.934005898750094, 77.61075025215672)"
   ]
  },
  {
   "cell_type": "code",
   "execution_count": 6,
   "metadata": {},
   "outputs": [],
   "source": [
    "osm_roads.close_database()"
   ]
  },
  {
   "cell_type": "code",
   "execution_count": null,
   "metadata": {},
   "outputs": [],
   "source": []
  }
 ],
 "metadata": {
  "interpreter": {
   "hash": "33aa1776e964b57799b92f7009b2bf2b4701937330e9fab52aa3c441390bd836"
  },
  "kernelspec": {
   "display_name": "Python 3.8.12 64-bit ('osm': conda)",
   "language": "python",
   "name": "python3"
  },
  "language_info": {
   "codemirror_mode": {
    "name": "ipython",
    "version": 3
   },
   "file_extension": ".py",
   "mimetype": "text/x-python",
   "name": "python",
   "nbconvert_exporter": "python",
   "pygments_lexer": "ipython3",
   "version": "3.8.12"
  },
  "orig_nbformat": 4
 },
 "nbformat": 4,
 "nbformat_minor": 2
}
