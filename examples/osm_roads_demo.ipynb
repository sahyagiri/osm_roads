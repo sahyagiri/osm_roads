{
 "cells": [
  {
   "cell_type": "code",
   "execution_count": 130,
   "metadata": {},
   "outputs": [],
   "source": [
    "from osm_roads import OsmRoads"
   ]
  },
  {
   "cell_type": "code",
   "execution_count": 121,
   "metadata": {},
   "outputs": [],
   "source": [
    "# Find ways with the given tag\n",
    "way_finder = OsmRoads()\n",
    "way_finder.load_osm_pbf(\"bengaloru.pbf\")\n",
    "\n",
    "way_finder.export_trie('bangalore_updated.trie')"
   ]
  },
  {
   "cell_type": "code",
   "execution_count": 125,
   "metadata": {},
   "outputs": [],
   "source": [
    "way_finder = GetRoadWays()\n",
    "way_finder.load_trie('bangalore_updated.trie')"
   ]
  },
  {
   "cell_type": "code",
   "execution_count": 129,
   "metadata": {},
   "outputs": [
    {
     "data": {
      "text/plain": [
       "{'name': '36th Cross Road',\n",
       " 'oneway': 'yes',\n",
       " 'highway': 'secondary',\n",
       " 'name:kn': '೩೬ನೆ ಅಡ್ಡ ರಸ್ತೆ'}"
      ]
     },
     "execution_count": 129,
     "metadata": {},
     "output_type": "execute_result"
    }
   ],
   "source": [
    "way_finder.get_road_type(12.923346749707804, 77.58493824767099)"
   ]
  },
  {
   "cell_type": "code",
   "execution_count": null,
   "metadata": {},
   "outputs": [],
   "source": []
  }
 ],
 "metadata": {
  "interpreter": {
   "hash": "33aa1776e964b57799b92f7009b2bf2b4701937330e9fab52aa3c441390bd836"
  },
  "kernelspec": {
   "display_name": "Python 3.8.12 64-bit ('osm': conda)",
   "language": "python",
   "name": "python3"
  },
  "language_info": {
   "codemirror_mode": {
    "name": "ipython",
    "version": 3
   },
   "file_extension": ".py",
   "mimetype": "text/x-python",
   "name": "python",
   "nbconvert_exporter": "python",
   "pygments_lexer": "ipython3",
   "version": "3.8.12"
  },
  "orig_nbformat": 4
 },
 "nbformat": 4,
 "nbformat_minor": 2
}
